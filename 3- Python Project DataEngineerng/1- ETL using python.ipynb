{
 "cells": [
  {
   "cell_type": "code",
   "execution_count": 2,
   "metadata": {},
   "outputs": [
    {
     "name": "stdout",
     "output_type": "stream",
     "text": [
      "--2024-09-05 13:26:56--  https://cf-courses-data.s3.us.cloud-object-storage.appdomain.cloud/IBMDeveloperSkillsNetwork-PY0221EN-SkillsNetwork/labs/module%206/Lab%20-%20Extract%20Transform%20Load/data/source.zip\n",
      "Resolving cf-courses-data.s3.us.cloud-object-storage.appdomain.cloud (cf-courses-data.s3.us.cloud-object-storage.appdomain.cloud)... 169.45.118.108\n",
      "Connecting to cf-courses-data.s3.us.cloud-object-storage.appdomain.cloud (cf-courses-data.s3.us.cloud-object-storage.appdomain.cloud)|169.45.118.108|:443... connected.\n",
      "HTTP request sent, awaiting response... 200 OK\n",
      "Length: 2707 (2.6K) [application/zip]\n",
      "Saving to: ‘source.zip.1’\n",
      "\n",
      "source.zip.1        100%[===================>]   2.64K  --.-KB/s    in 0s      \n",
      "\n",
      "2024-09-05 13:26:58 (34.5 MB/s) - ‘source.zip.1’ saved [2707/2707]\n",
      "\n"
     ]
    }
   ],
   "source": [
    "\n",
    "!wget https://cf-courses-data.s3.us.cloud-object-storage.appdomain.cloud/IBMDeveloperSkillsNetwork-PY0221EN-SkillsNetwork/labs/module%206/Lab%20-%20Extract%20Transform%20Load/data/source.zip"
   ]
  },
  {
   "cell_type": "code",
   "execution_count": 2,
   "metadata": {},
   "outputs": [
    {
     "name": "stdout",
     "output_type": "stream",
     "text": [
      "/usr/bin/sh: 1: unzip: not found\n"
     ]
    }
   ],
   "source": [
    "!unzip source.zip"
   ]
  },
  {
   "cell_type": "code",
   "execution_count": 3,
   "metadata": {},
   "outputs": [],
   "source": [
    "import glob \n",
    "import pandas as pd \n",
    "import xml.etree.ElementTree as ET \n",
    "from datetime import datetime "
   ]
  },
  {
   "cell_type": "code",
   "execution_count": 4,
   "metadata": {},
   "outputs": [],
   "source": [
    "log_file = \"log_file.txt\" \n",
    "target_file = \"transformed_data.csv\" "
   ]
  },
  {
   "cell_type": "code",
   "execution_count": 21,
   "metadata": {},
   "outputs": [],
   "source": [
    "\n",
    "def extract_from_csv(file_to_process):\n",
    "    \"\"\"\n",
    "    Extract data from a CSV file.\n",
    "    \n",
    "    Parameters:\n",
    "    file_to_process (str): Path to the CSV file.\n",
    "    \n",
    "    Returns:\n",
    "    DataFrame: Pandas DataFrame containing the data from the CSV file.\n",
    "    \"\"\"\n",
    "    data = pd.read_csv(file_to_process)\n",
    "    return data\n",
    "\n",
    "def extract_from_json(file_to_process):\n",
    "    \"\"\"\n",
    "    Extract data from a JSON file.\n",
    "    \n",
    "    Parameters:\n",
    "    file_to_process (str): Path to the JSON file.\n",
    "    \n",
    "    Returns:\n",
    "    DataFrame: Pandas DataFrame containing the data from the JSON file.\n",
    "    \"\"\"\n",
    "    data = pd.read_json(file_to_process, lines=True)\n",
    "    return data\n",
    "\n",
    "def extract_from_xml(file_to_process):\n",
    "    \"\"\"\n",
    "    Extract data from an XML file.\n",
    "    \n",
    "    Parameters:\n",
    "    file_to_process (str): Path to the XML file.\n",
    "    \n",
    "    Returns:\n",
    "    DataFrame: Pandas DataFrame containing the data from the XML file.\n",
    "    \"\"\"\n",
    "    # Create an empty DataFrame with specified columns\n",
    "    dataframe = pd.DataFrame(columns=[\"name\", \"height\", \"weight\"])\n",
    "    \n",
    "    # Parse the XML file\n",
    "    tree = ET.parse(file_to_process)\n",
    "    root = tree.getroot()\n",
    "    \n",
    "    # Iterate over each person element in the XML\n",
    "    for person in root:\n",
    "        # Extract the name, height, and weight from the XML elements\n",
    "        name = person.find(\"name\").text\n",
    "        height = float(person.find(\"height\").text)\n",
    "        weight = float(person.find(\"weight\").text)\n",
    "        \n",
    "        # Append the extracted data to the DataFrame\n",
    "        dataframe = pd.concat([dataframe, pd.DataFrame([[name, height, weight]], columns=[\"name\", \"height\", \"weight\"])])\n",
    "    \n",
    "    return dataframe"
   ]
  },
  {
   "cell_type": "code",
   "execution_count": 22,
   "metadata": {},
   "outputs": [],
   "source": [
    "def extract():\n",
    "    extracted_data = pd.DataFrame(columns=[\"name\", \"height\", \"weight\"]) \n",
    "\n",
    "    # Process all CSV files\n",
    "    for csv_file in glob.glob(\"*.csv\"):\n",
    "        extracted_data = pd.concat([extracted_data, extract_from_csv(csv_file)], ignore_index=True)\n",
    "\n",
    "    # Process all JSON files\n",
    "    for json_file in glob.glob(\"*.json\"):\n",
    "        extracted_data = pd.concat([extracted_data, extract_from_json(json_file)], ignore_index=True)\n",
    "\n",
    "    # Process all XML files\n",
    "    for xml_file in glob.glob(\"*.xml\"):\n",
    "        extracted_data = pd.concat([extracted_data, extract_from_xml(xml_file)], ignore_index=True)\n",
    "\n",
    "    return extracted_data"
   ]
  },
  {
   "cell_type": "markdown",
   "metadata": {},
   "source": [
    "### Difference between `dataframe.apply` and `dataframe.transform`\n",
    "\n",
    "In pandas, `apply` and `transform` are both used to perform operations on DataFrames or Series, but they have different use cases and behaviors.\n",
    "\n",
    "#### `apply`:\n",
    "- **Purpose**: Used to apply a function along an axis of the DataFrame (rows or columns).\n",
    "- **Behavior**: The function can return a scalar, a Series, or a DataFrame.\n",
    "- **Use Case**: When you want to apply a function to each row or column and the function can return different shapes.\n",
    "- **Example**:\n",
    "  ```python\n",
    "  import pandas as pd\n",
    "\n",
    "  df = pd.DataFrame({\n",
    "      'A': [1, 2, 3],\n",
    "      'B': [4, 5, 6]\n",
    "  })\n",
    "\n",
    "  # Apply a function to each column\n",
    "  result = df.apply(lambda x: x + 1)\n",
    "  print(result)\n",
    "\n",
    "### `transform`:\n",
    "- **Purpose**: Used to return a DataFrame with the same shape as the input DataFrame.\n",
    "- **Behavior**: The function must return a scalar value, a Series, or an array with the same length as the input DataFrame.\n",
    "- **Use Case**: When you want to transform each element in a DataFrame or Series.\n",
    "- **Example**:\n",
    "  ```python\n",
    "  import pandas as pd\n",
    "\n",
    "  df = pd.DataFrame({\n",
    "      'A': [1, 2, 3],\n",
    "      'B': [4, 5, 6]\n",
    "  })\n",
    "\n",
    "  # Transform each element in the DataFrame\n",
    "  result = df.transform(lambda x: x + 1)\n",
    "  print(result)\n",
    "  ```"
   ]
  },
  {
   "cell_type": "code",
   "execution_count": 23,
   "metadata": {},
   "outputs": [],
   "source": [
    "def transform(data):\n",
    "    # Convert height from inches to meters\n",
    "    data[\"height\"] = data[\"height\"].transform(lambda x: x * 0.0254)\n",
    "\n",
    "    # Convert weight from pounds to kilograms\n",
    "    data[\"weight\"] = data[\"weight\"].transform(lambda x: x * 0.453592)\n",
    "    \n",
    "    return data"
   ]
  },
  {
   "cell_type": "code",
   "execution_count": 24,
   "metadata": {},
   "outputs": [],
   "source": [
    "def load_data(target_file, transformed_data):\n",
    "    transformed_data.to_csv(target_file, index=False)"
   ]
  },
  {
   "cell_type": "code",
   "execution_count": 25,
   "metadata": {},
   "outputs": [],
   "source": [
    "def log_progress(message):\n",
    "    timestamp = datetime.now().strftime(\"%Y-%m-%d %H:%M:%S\")\n",
    "    with open(log_file, \"a\") as log:\n",
    "        log.write(f\"{timestamp} - {message}\\n\")"
   ]
  },
  {
   "cell_type": "code",
   "execution_count": 26,
   "metadata": {},
   "outputs": [
    {
     "name": "stderr",
     "output_type": "stream",
     "text": [
      "/tmp/ipykernel_12/3992496054.py:6: FutureWarning: The behavior of DataFrame concatenation with empty or all-NA entries is deprecated. In a future version, this will no longer exclude empty or all-NA columns when determining the result dtypes. To retain the old behavior, exclude the relevant entries before the concat operation.\n",
      "  extracted_data = pd.concat([extracted_data, extract_from_csv(csv_file)], ignore_index=True)\n",
      "/tmp/ipykernel_12/1785745781.py:52: FutureWarning: The behavior of DataFrame concatenation with empty or all-NA entries is deprecated. In a future version, this will no longer exclude empty or all-NA columns when determining the result dtypes. To retain the old behavior, exclude the relevant entries before the concat operation.\n",
      "  dataframe = pd.concat([dataframe, pd.DataFrame([[name, height, weight]], columns=[\"name\", \"height\", \"weight\"])])\n",
      "/tmp/ipykernel_12/1785745781.py:52: FutureWarning: The behavior of DataFrame concatenation with empty or all-NA entries is deprecated. In a future version, this will no longer exclude empty or all-NA columns when determining the result dtypes. To retain the old behavior, exclude the relevant entries before the concat operation.\n",
      "  dataframe = pd.concat([dataframe, pd.DataFrame([[name, height, weight]], columns=[\"name\", \"height\", \"weight\"])])\n",
      "/tmp/ipykernel_12/1785745781.py:52: FutureWarning: The behavior of DataFrame concatenation with empty or all-NA entries is deprecated. In a future version, this will no longer exclude empty or all-NA columns when determining the result dtypes. To retain the old behavior, exclude the relevant entries before the concat operation.\n",
      "  dataframe = pd.concat([dataframe, pd.DataFrame([[name, height, weight]], columns=[\"name\", \"height\", \"weight\"])])\n"
     ]
    }
   ],
   "source": [
    "log_progress(\"ETL Job Started\")\n",
    "\n",
    "log_progress(\"Extracting Data\")\n",
    "data = extract()\n",
    "\n",
    "log_progress(\"Transforming Data\")\n",
    "transformed_data = transform(data)\n",
    "\n",
    "log_progress(\"Loading Data\")\n",
    "load_data(target_file, transformed_data)\n",
    "\n",
    "log_progress(\"ETL Job Finished\")"
   ]
  },
  {
   "cell_type": "code",
   "execution_count": 27,
   "metadata": {},
   "outputs": [
    {
     "data": {
      "text/html": [
       "<div>\n",
       "<style scoped>\n",
       "    .dataframe tbody tr th:only-of-type {\n",
       "        vertical-align: middle;\n",
       "    }\n",
       "\n",
       "    .dataframe tbody tr th {\n",
       "        vertical-align: top;\n",
       "    }\n",
       "\n",
       "    .dataframe thead th {\n",
       "        text-align: right;\n",
       "    }\n",
       "</style>\n",
       "<table border=\"1\" class=\"dataframe\">\n",
       "  <thead>\n",
       "    <tr style=\"text-align: right;\">\n",
       "      <th></th>\n",
       "      <th>name</th>\n",
       "      <th>height</th>\n",
       "      <th>weight</th>\n",
       "    </tr>\n",
       "  </thead>\n",
       "  <tbody>\n",
       "    <tr>\n",
       "      <th>0</th>\n",
       "      <td>alex</td>\n",
       "      <td>1.670812</td>\n",
       "      <td>51.251360</td>\n",
       "    </tr>\n",
       "    <tr>\n",
       "      <th>1</th>\n",
       "      <td>ajay</td>\n",
       "      <td>1.816608</td>\n",
       "      <td>61.910772</td>\n",
       "    </tr>\n",
       "    <tr>\n",
       "      <th>2</th>\n",
       "      <td>alice</td>\n",
       "      <td>1.762760</td>\n",
       "      <td>69.413184</td>\n",
       "    </tr>\n",
       "    <tr>\n",
       "      <th>3</th>\n",
       "      <td>ravi</td>\n",
       "      <td>1.732788</td>\n",
       "      <td>64.564285</td>\n",
       "    </tr>\n",
       "    <tr>\n",
       "      <th>4</th>\n",
       "      <td>joe</td>\n",
       "      <td>1.721866</td>\n",
       "      <td>65.453326</td>\n",
       "    </tr>\n",
       "  </tbody>\n",
       "</table>\n",
       "</div>"
      ],
      "text/plain": [
       "    name    height     weight\n",
       "0   alex  1.670812  51.251360\n",
       "1   ajay  1.816608  61.910772\n",
       "2  alice  1.762760  69.413184\n",
       "3   ravi  1.732788  64.564285\n",
       "4    joe  1.721866  65.453326"
      ]
     },
     "execution_count": 27,
     "metadata": {},
     "output_type": "execute_result"
    }
   ],
   "source": [
    "# load the csv to pandas and show the first 5 rows\n",
    "df = pd.read_csv(target_file)\n",
    "df.head()"
   ]
  },
  {
   "cell_type": "code",
   "execution_count": null,
   "metadata": {},
   "outputs": [],
   "source": []
  }
 ],
 "metadata": {
  "kernelspec": {
   "display_name": "Python 3 (ipykernel)",
   "language": "python",
   "name": "python3"
  },
  "language_info": {
   "codemirror_mode": {
    "name": "ipython",
    "version": 3
   },
   "file_extension": ".py",
   "mimetype": "text/x-python",
   "name": "python",
   "nbconvert_exporter": "python",
   "pygments_lexer": "ipython3",
   "version": "3.12.5"
  }
 },
 "nbformat": 4,
 "nbformat_minor": 2
}
