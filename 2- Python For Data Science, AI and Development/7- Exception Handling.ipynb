{
 "cells": [
  {
   "cell_type": "markdown",
   "metadata": {},
   "source": [
    "# Exception Handling\n",
    "\n",
    "## Introduction\n",
    "Exception handling is a mechanism to handle runtime errors. It is mainly used to handle the exceptions that can occur in the code during the execution. It is a way to handle the runtime errors so that normal flow of the program can be maintained.\n",
    "\n",
    "## Types of Exceptions\n",
    "There are two types of exceptions:\n",
    "1. **Checked Exception**: These exceptions are checked at compile-time. If some code within a method throws a checked exception, then the method must either handle the exception or it must specify the exception using throws keyword.\n",
    "2. **Unchecked Exception**: These exceptions are not checked at compile-time. It is up to the programmer to write the code to handle such exceptions.\n",
    "\n",
    "## Exception Handling Keywords\n",
    "1. **try**: It is used to specify a block where we should place exception code. The try block must be followed by either catch or finally block.\n",
    "2. **exept**: It is used to catch the exceptions. It must be preceded by try block.\n",
    "3. **finally**: It is used to execute important code such as closing connection, etc. It is executed whether an exception is handled or not.\n",
    "4. **throw**: It is used to explicitly throw an exception.\n",
    "5. **throws**: It is used to declare an exception. It doesn't throw an exception. It specifies that there may occur an exception in the method. It is always used with the method signature.\n",
    "\n",
    "## Syntax\n",
    "```python\n",
    "try:\n",
    "    # code that can raise an exception\n",
    "except Exception1:\n",
    "    # code to handle exception1\n",
    "except Exception2:\n",
    "    # code to handle exception2\n",
    "else:\n",
    "    # code that will be executed if there is no exception\n",
    "finally:\n",
    "    # code that will be executed whether an exception is handled or not\n",
    "```\n"
   ]
  },
  {
   "cell_type": "markdown",
   "metadata": {},
   "source": []
  },
  {
   "cell_type": "code",
   "execution_count": 1,
   "metadata": {},
   "outputs": [
    {
     "name": "stdout",
     "output_type": "stream",
     "text": [
      "The number you provided cant divide 1 because it is 0\n"
     ]
    }
   ],
   "source": [
    "a = 1\n",
    "\n",
    "try:\n",
    "    b = int(input(\"Please enter a number to divide a\"))\n",
    "    a = a/b\n",
    "    print(\"Success a=\",a)\n",
    "except ZeroDivisionError:\n",
    "    print(\"The number you provided cant divide 1 because it is 0\")\n",
    "except ValueError:\n",
    "    print(\"You did not provide a number\")\n",
    "except:\n",
    "    print(\"Something went wrong\")"
   ]
  },
  {
   "cell_type": "code",
   "execution_count": 2,
   "metadata": {},
   "outputs": [
    {
     "name": "stdout",
     "output_type": "stream",
     "text": [
      "success a= 0.3333333333333333\n",
      "Processing Complete\n"
     ]
    }
   ],
   "source": [
    "a = 1\n",
    "\n",
    "try:\n",
    "    b = int(input(\"Please enter a number to divide a\"))\n",
    "    a = a/b\n",
    "except ZeroDivisionError:\n",
    "    print(\"The number you provided cant divide 1 because it is 0\")\n",
    "except ValueError:\n",
    "    print(\"You did not provide a number\")\n",
    "except:\n",
    "    print(\"Something went wrong\")\n",
    "else:\n",
    "    print(\"success a=\",a)\n",
    "finally:\n",
    "    print(\"Processing Complete\")"
   ]
  },
  {
   "cell_type": "code",
   "execution_count": null,
   "metadata": {},
   "outputs": [],
   "source": []
  }
 ],
 "metadata": {
  "kernelspec": {
   "display_name": "Python 3 (ipykernel)",
   "language": "python",
   "name": "python3"
  },
  "language_info": {
   "codemirror_mode": {
    "name": "ipython",
    "version": 3
   },
   "file_extension": ".py",
   "mimetype": "text/x-python",
   "name": "python",
   "nbconvert_exporter": "python",
   "pygments_lexer": "ipython3",
   "version": "3.12.5"
  }
 },
 "nbformat": 4,
 "nbformat_minor": 2
}
