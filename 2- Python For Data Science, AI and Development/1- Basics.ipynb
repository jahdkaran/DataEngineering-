{
 "cells": [
  {
   "cell_type": "code",
   "execution_count": 1,
   "metadata": {},
   "outputs": [
    {
     "name": "stdout",
     "output_type": "stream",
     "text": [
      "Hello, World!\n",
      "3.12.5 (main, Aug 13 2024, 01:30:38) [GCC 12.2.0]\n"
     ]
    }
   ],
   "source": [
    "import sys \n",
    "\n",
    "print(\"Hello, World!\")\n",
    "print(sys.version)"
   ]
  },
  {
   "cell_type": "markdown",
   "metadata": {},
   "source": [
    "### Data Types in Python\n",
    "\n",
    "Python supports various data types, including:\n",
    "\n",
    "1. **Numeric Types**:\n",
    "   - **int**: Integer values (e.g., `1`, `42`)\n",
    "   - **float**: Floating-point numbers (e.g., `3.14`, `2.0`)\n",
    "   - **complex**: Complex numbers (e.g., `1+2j`)\n",
    "\n",
    "2. **Sequence Types**:\n",
    "   - **list**: Ordered, mutable collection (e.g., `[1, 2, 3]`)\n",
    "   - **tuple**: Ordered, immutable collection (e.g., `(1, 2, 3)`)\n",
    "   - **range**: Sequence of numbers (e.g., `range(5)`)\n",
    "\n",
    "3. **Text Type**:\n",
    "   - **str**: String of characters (e.g., `\"hello\"`)\n",
    "\n",
    "4. **Mapping Type**:\n",
    "   - **dict**: Collection of key-value pairs (e.g., `{\"key\": \"value\"}`)\n",
    "\n",
    "5. **Set Types**:\n",
    "   - **set**: Unordered collection of unique elements (e.g., `{1, 2, 3}`)\n",
    "   - **frozenset**: Immutable version of a set (e.g., `frozenset([1, 2, 3])`)\n",
    "\n",
    "6. **Boolean Type**:\n",
    "   - **bool**: Boolean values (`True` or `False`)\n",
    "\n",
    "7. **Binary Types**:\n",
    "   - **bytes**: Immutable sequence of bytes (e.g., `b'hello'`)\n",
    "   - **bytearray**: Mutable sequence of bytes (e.g., `bytearray(b'hello')`)\n",
    "   - **memoryview**: Memory view object (e.g., `memoryview(b'hello')`)\n",
    "\n",
    "### Type Conversion in Python\n",
    "\n",
    "Python provides several built-in functions to convert between data types:\n"
   ]
  },
  {
   "cell_type": "code",
   "execution_count": 9,
   "metadata": {},
   "outputs": [
    {
     "name": "stdout",
     "output_type": "stream",
     "text": [
      "3  is of type  <class 'int'>\n",
      "3.0  is of type  <class 'float'>\n",
      "hello world  is of type  <class 'str'>\n",
      "0.3333333333333333  is of type  <class 'float'>\n",
      "(1+3j)  is of type  <class 'complex'>\n",
      "True  is of type  <class 'bool'>\n",
      "None  is of type  <class 'NoneType'>\n",
      "[1, 2, 3]  is of type  <class 'list'>\n",
      "(1, 2, 3)  is of type  <class 'tuple'>\n",
      "{'a': 1, 'b': 2}  is of type  <class 'dict'>\n",
      "{1, 2, 3}  is of type  <class 'set'>\n",
      "{1, 2, 3}  is of type  <class 'set'>\n",
      "b'hello'  is of type  <class 'bytes'>\n"
     ]
    }
   ],
   "source": [
    "print (3, \" is of type \", type(3))\n",
    "print (3.0, \" is of type \", type(3.0))\n",
    "print (\"hello world\", \" is of type \", type(\"hello world\"))\n",
    "print (1/3, \" is of type \", type(1/3))\n",
    "print (1+3j, \" is of type \", type(1+3j))\n",
    "print (True, \" is of type \", type(True))\n",
    "print (None, \" is of type \", type(None))\n",
    "print ([1,2,3], \" is of type \", type([1,2,3]))\n",
    "print ((1,2,3), \" is of type \", type((1,2,3)))\n",
    "print ({'a':1, 'b':2}, \" is of type \", type({'a':1, 'b':2}))\n",
    "print (set([1,2,3]), \" is of type \", type(set([1,2,3])))\n",
    "print ({1,2,3}, \" is of type \", type({1,2,3}))\n",
    "print (b\"hello\", \" is of type \", type(b\"hello\"))  # Bytes"
   ]
  },
  {
   "cell_type": "code",
   "execution_count": 11,
   "metadata": {},
   "outputs": [
    {
     "name": "stdout",
     "output_type": "stream",
     "text": [
      "Float to int: 3\n",
      "Int to float: 3.0\n",
      "Int to string: 100\n",
      "Tuple to list: [1, 2, 3]\n",
      "List to tuple: (1, 2, 3)\n",
      "List to set: {1, 2, 3}\n",
      "List of tuples to dictionary: {1: 'one', 2: 'two'}\n",
      "Int to char: A\n",
      "Char to int: 65\n",
      "Int to bool: True\n",
      "String to bytes: b'hello'\n",
      "String to bytearray: bytearray(b'hello')\n"
     ]
    }
   ],
   "source": [
    "conversions = [\n",
    "    (\"Float to int\", int(3.5)),\n",
    "    (\"Int to float\", float(3)),\n",
    "    (\"Int to string\", str(100)),\n",
    "    (\"Tuple to list\", list((1, 2, 3))),\n",
    "    (\"List to tuple\", tuple([1, 2, 3])),\n",
    "    (\"List to set\", set([1, 2, 2, 3])),\n",
    "    (\"List of tuples to dictionary\", dict([(1, 'one'), (2, 'two')])),\n",
    "    (\"Int to char\", chr(65)),\n",
    "    (\"Char to int\", ord('A')),\n",
    "    (\"Int to bool\", bool(1)),\n",
    "    (\"String to bytes\", bytes('hello', 'utf-8')),\n",
    "    (\"String to bytearray\", bytearray('hello', 'utf-8'))\n",
    "]\n",
    "\n",
    "for description, value in conversions:\n",
    "    print(f\"{description}: {value}\")"
   ]
  },
  {
   "cell_type": "markdown",
   "metadata": {},
   "source": [
    "### Expressions and Variables in Python\n",
    "\n",
    "#### Expressions\n",
    "- **Definition**: An expression is a combination of values, variables, operators, and function calls that are evaluated to produce another value.\n",
    "- **Examples**:\n",
    "  - Arithmetic: `3 + 5`\n",
    "  - String concatenation: `\"Hello, \" + \"world!\"`\n",
    "  - Function call: `len([1, 2, 3])`\n",
    "\n",
    "#### Variables\n",
    "- **Definition**: A variable is a name that refers to a value stored in the memory. Variables are used to store data that can be manipulated and retrieved throughout the program.\n",
    "- **Declaration and Assignment**:\n",
    "  - Variables are created when they are first assigned a value.\n",
    "  - Syntax: `variable_name = value`\n",
    "  - Example: `x = 10`\n",
    "- **Naming Rules**:\n",
    "  - Must start with a letter (a-z, A-Z) or an underscore (_).\n",
    "  - Followed by letters, digits (0-9), or underscores.\n",
    "  - Case-sensitive (`myVar` and `myvar` are different)."
   ]
  },
  {
   "cell_type": "code",
   "execution_count": 15,
   "metadata": {},
   "outputs": [
    {
     "name": "stdout",
     "output_type": "stream",
     "text": [
      "Sum: 15\n",
      "Difference: 5\n",
      "Product: 50\n",
      "Quotient: 2.0\n",
      "Integer Quotient: 2\n",
      "Exponent: 100000\n",
      "Full Greeting: Hello, Alice!\n",
      "Length of Greeting: 13\n",
      "Is x equal to y? False\n",
      "Is x greater than y? True\n"
     ]
    }
   ],
   "source": [
    "# Variable assignment\n",
    "x = 10\n",
    "y = 5\n",
    "\n",
    "# Arithmetic expressions\n",
    "sum_result = x + y\n",
    "difference = x - y\n",
    "product = x * y\n",
    "quotient = x / y\n",
    "integer_quotient = x // y\n",
    "exponent = x ** y\n",
    "\n",
    "# String concatenation\n",
    "greeting = \"Hello\"\n",
    "name = \"Alice\"\n",
    "full_greeting = greeting + \", \" + name + \"!\"\n",
    "\n",
    "# Function call in an expression\n",
    "length_of_greeting = len(full_greeting)\n",
    "\n",
    "# Boolean expressions\n",
    "is_equal = (x == y)\n",
    "is_greater = (x > y)\n",
    "\n",
    "# Output results\n",
    "print(\"Sum:\", sum_result)\n",
    "print(\"Difference:\", difference)\n",
    "print(\"Product:\", product)\n",
    "print(\"Quotient:\", quotient)\n",
    "print(\"Integer Quotient:\", integer_quotient)\n",
    "print(\"Exponent:\", exponent)\n",
    "print(\"Full Greeting:\", full_greeting)\n",
    "print(\"Length of Greeting:\", length_of_greeting)\n",
    "print(\"Is x equal to y?\", is_equal)\n",
    "print(\"Is x greater than y?\", is_greater)"
   ]
  },
  {
   "cell_type": "code",
   "execution_count": 23,
   "metadata": {},
   "outputs": [
    {
     "name": "stdout",
     "output_type": "stream",
     "text": [
      "Original string: '  Hello, Python!  '\n",
      "Stripped string: 'Hello, Python!'\n",
      "Lowercase string:   hello, python!  \n",
      "Uppercase string:   HELLO, PYTHON!  \n",
      "Index of 'Python': 9\n",
      "Split string by ',': ['  Hello', ' Python!  ']\n",
      "Replace 'Python' with 'world':   Hello, world!  \n",
      "Slicing with stride (every 2nd character):  Hlo yhn \n",
      "Slicing within specific range with stride (every 2nd character):  yh\n",
      "Substring from index 8 to 14:  Pytho\n",
      "Last character using negative indexing:  \n",
      "Second to last character using negative indexing:  \n",
      "String with escape sequences: Hello\n",
      "Python\tWorld\\!\n"
     ]
    }
   ],
   "source": [
    "s = \"  Hello, Python!  \"\n",
    "\n",
    "# Original string\n",
    "print(\"Original string:\", repr(s))\n",
    "\n",
    "# strip() - removes leading and trailing whitespace\n",
    "print(\"Stripped string:\", repr(s.strip()))\n",
    "\n",
    "# lower() - converts all characters to lowercase\n",
    "print(\"Lowercase string:\", s.lower())\n",
    "\n",
    "# upper() - converts all characters to uppercase\n",
    "print(\"Uppercase string:\", s.upper())\n",
    "\n",
    "# find() - returns the lowest index of the substring if found, otherwise -1\n",
    "print(\"Index of 'Python':\", s.find(\"Python\"))\n",
    "\n",
    "# split() - splits the string into a list of substrings based on the specified separator\n",
    "print(\"Split string by ',':\", s.split(\",\"))\n",
    "\n",
    "# replace() - replaces all occurrences of a substring with another substring\n",
    "print(\"Replace 'Python' with 'world':\", s.replace(\"Python\", \"world\"))\n",
    "\n",
    "# Slicing with stride - extracts a substring with a step\n",
    "print(\"Slicing with stride (every 2nd character):\", s[::2])\n",
    "\n",
    "# Slicing within specific range with strid \n",
    "print(\"Slicing within specific range with stride (every 2nd character):\", s[8:14:2])\n",
    "\n",
    "# Slicing in specific range\n",
    "print(\"Substring from index 8 to 14:\", s[8:14])\n",
    "\n",
    "# Negative indexing - accessing characters from the end of the string\n",
    "print(\"Last character using negative indexing:\", s[-1])\n",
    "print(\"Second to last character using negative indexing:\", s[-2])\n",
    "\n",
    "# Escape sequences - special characters in strings\n",
    "escape_sequence_str = \"Hello\\nPython\\tWorld\\\\!\"\n",
    "print(\"String with escape sequences:\", escape_sequence_str)"
   ]
  },
  {
   "cell_type": "markdown",
   "metadata": {},
   "source": [
    "### Regular Expressions (Regex) in Python\n",
    "\n",
    "#### Definition\n",
    "- **Regular Expressions (Regex)**: A sequence of characters that define a search pattern. They are used for string matching and manipulation.\n",
    "\n",
    "#### Common Uses\n",
    "- Searching for patterns within strings.\n",
    "- Replacing substrings.\n",
    "- Splitting strings based on patterns.\n",
    "- Validating string formats (e.g., email addresses, phone numbers).\n",
    "\n",
    "#### Python's `re` Module\n",
    "Python provides the `re` module to work with regular expressions. Here are some commonly used functions:\n",
    "\n",
    "- `re.search(pattern, string)`: Searches for the first occurrence of the pattern in the string. Returns a match object if found, otherwise `None`.\n",
    "- `re.match(pattern, string)`: Checks if the pattern matches the beginning of the string. Returns a match object if found, otherwise `None`.\n",
    "- `re.findall(pattern, string)`: Returns a list of all non-overlapping matches of the pattern in the string.\n",
    "- `re.sub(pattern, repl, string)`: Replaces all occurrences of the pattern in the string with `repl`.\n",
    "- `re.split(pattern, string)`: Splits the string by occurrences of the pattern.\n"
   ]
  },
  {
   "cell_type": "code",
   "execution_count": 24,
   "metadata": {},
   "outputs": [],
   "source": [
    "import re "
   ]
  },
  {
   "cell_type": "code",
   "execution_count": 26,
   "metadata": {},
   "outputs": [
    {
     "name": "stdout",
     "output_type": "stream",
     "text": [
      "<re.Match object; span=(8, 15), match='Jackson'>\n",
      "Match found!\n"
     ]
    }
   ],
   "source": [
    "s1 = \"Michael Jackson is the best\"\n",
    "\n",
    "# Define the pattern to search for\n",
    "pattern = r\"Jackson\"\n",
    "\n",
    "# Use the search() function to search for the pattern in the string\n",
    "result = re.search(pattern, s1)\n",
    "print (result)\n",
    "\n",
    "# Check if a match was found\n",
    "if result:\n",
    "    print(\"Match found!\")\n",
    "else:\n",
    "    print(\"Match not found.\")"
   ]
  },
  {
   "cell_type": "markdown",
   "metadata": {},
   "source": [
    "### Special Sequences in Regular Expressions (RegEx)\n",
    "\n",
    "Regular expressions (RegEx) are patterns used to match and manipulate strings of text. Special sequences in RegEx allow you to match specific characters or patterns more efficiently. Here is a table of some commonly used special sequences:\n",
    "\n",
    "| Special Sequence | Description                                                                 |\n",
    "|------------------|-----------------------------------------------------------------------------|\n",
    "| `\\d`             | Matches any digit (equivalent to `[0-9]`).                                  |\n",
    "| `\\D`             | Matches any non-digit character (equivalent to `[^0-9]`).                   |\n",
    "| `\\w`             | Matches any alphanumeric character (equivalent to `[a-zA-Z0-9_]`).          |\n",
    "| `\\W`             | Matches any non-alphanumeric character (equivalent to `[^a-zA-Z0-9_]`).     |\n",
    "| `\\s`             | Matches any whitespace character (spaces, tabs, newlines).                  |\n",
    "| `\\S`             | Matches any non-whitespace character.                                       |\n",
    "| `\\b`             | Matches a word boundary (the position between a word and a space).          |\n",
    "| `\\B`             | Matches a non-word boundary.                                                |\n",
    "| `\\A`             | Matches the start of the string.                                            |\n",
    "| `\\Z`             | Matches the end of the string.                                              |\n",
    "| `\\`              | Escapes a special character, allowing it to be matched literally.           |\n"
   ]
  },
  {
   "cell_type": "code",
   "execution_count": 27,
   "metadata": {},
   "outputs": [
    {
     "name": "stdout",
     "output_type": "stream",
     "text": [
      "Phone number found: 1234567890\n"
     ]
    }
   ],
   "source": [
    "pattern = r\"\\d\\d\\d\\d\\d\\d\\d\\d\\d\\d\"  # Matches any ten consecutive digits\n",
    "text = \"My Phone number is 1234567890\"\n",
    "match = re.search(pattern, text)\n",
    "\n",
    "if match:\n",
    "    print(\"Phone number found:\", match.group())\n",
    "else:\n",
    "    print(\"No match\")"
   ]
  },
  {
   "cell_type": "code",
   "execution_count": 28,
   "metadata": {},
   "outputs": [
    {
     "name": "stdout",
     "output_type": "stream",
     "text": [
      "Matches: [',', ' ', '!']\n"
     ]
    }
   ],
   "source": [
    "pattern = r\"\\W\"  # Matches any non-word character\n",
    "text = \"Hello, world!\"\n",
    "matches = re.findall(pattern, text)\n",
    "\n",
    "print(\"Matches:\", matches)"
   ]
  },
  {
   "cell_type": "code",
   "execution_count": 29,
   "metadata": {},
   "outputs": [
    {
     "name": "stdout",
     "output_type": "stream",
     "text": [
      "['as', 'as']\n"
     ]
    }
   ],
   "source": [
    "s2 = \"Michael Jackson was a singer and known as the 'King of Pop'\"\n",
    "\n",
    "\n",
    "# Use the findall() function to find all occurrences of the \"as\" in the string\n",
    "result = re.findall(\"as\", s2)\n",
    "\n",
    "# Print out the list of matched words\n",
    "print(result)\n"
   ]
  },
  {
   "cell_type": "code",
   "execution_count": 31,
   "metadata": {},
   "outputs": [
    {
     "name": "stdout",
     "output_type": "stream",
     "text": [
      "['Michael', 'Jackson', 'was', 'a', 'singer', 'and', 'known', 'as', 'the', \"'King\", 'of', \"Pop'\"]\n"
     ]
    }
   ],
   "source": [
    "# Use the split function to split the string by the \"\\s\" which represents white spaces\n",
    "split_array = re.split(r\"\\s\", s2)\n",
    "\n",
    "# The split_array contains all the substrings, split by whitespace characters\n",
    "print(split_array) "
   ]
  },
  {
   "cell_type": "markdown",
   "metadata": {},
   "source": [
    "The sub function of a regular expression in Python is used to replace all occurrences of a pattern in a string with a specified replacement.\n"
   ]
  },
  {
   "cell_type": "code",
   "execution_count": 32,
   "metadata": {},
   "outputs": [
    {
     "name": "stdout",
     "output_type": "stream",
     "text": [
      "Michael Jackson was a singer and known as the 'legend'\n"
     ]
    }
   ],
   "source": [
    "# Define the regular expression pattern to search for\n",
    "pattern = r\"King of Pop\"\n",
    "\n",
    "# Define the replacement string\n",
    "replacement = \"legend\"\n",
    "\n",
    "# Use the sub function to replace the pattern with the replacement string\n",
    "new_string = re.sub(pattern, replacement, s2, flags=re.IGNORECASE)\n",
    "\n",
    "# The new_string contains the original string with the pattern replaced by the replacement string\n",
    "print(new_string) "
   ]
  },
  {
   "cell_type": "code",
   "execution_count": null,
   "metadata": {},
   "outputs": [],
   "source": []
  }
 ],
 "metadata": {
  "kernelspec": {
   "display_name": "Python 3 (ipykernel)",
   "language": "python",
   "name": "python3"
  },
  "language_info": {
   "codemirror_mode": {
    "name": "ipython",
    "version": 3
   },
   "file_extension": ".py",
   "mimetype": "text/x-python",
   "name": "python",
   "nbconvert_exporter": "python",
   "pygments_lexer": "ipython3",
   "version": "3.12.5"
  }
 },
 "nbformat": 4,
 "nbformat_minor": 2
}
