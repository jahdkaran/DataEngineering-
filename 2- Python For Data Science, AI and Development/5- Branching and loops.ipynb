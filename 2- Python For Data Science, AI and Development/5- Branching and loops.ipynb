{
 "cells": [
  {
   "cell_type": "markdown",
   "metadata": {},
   "source": [
    "# Conditions and Branching in python \n",
    "In this notebook, we will learn about the condition statements and branching in python. We will cover the following topics:\n",
    "- Comparison operators\n",
    "- Branching\n",
    "- Logical operators\n",
    "\n",
    "## Comparison operators\n",
    "Comparison operators are used to compare values. It returns either True or False according to the condition.\n",
    "\n",
    "| Operator | Description |\n",
    "| --- | --- |\n",
    "| == | Equal |\n",
    "| != | Not equal |\n",
    "| > | Greater than |\n",
    "| < | Less than |\n",
    "| >= | Greater than or equal to |\n",
    "| <= | Less than or equal to |\n",
    "\n",
    "Let's see some examples:\n",
    "```python\n",
    "a = 5\n",
    "a == 5 # returns True\n",
    "a != 5 # returns False\n",
    "a > 5 # returns False\n",
    "a < 5 # returns False\n",
    "a >= 5 # returns True\n",
    "a <= 5 # returns True\n",
    "```\n",
    "\n",
    "## Branching\n",
    "Branching allows us to run different statements for different inputs. We use `if`, `elif`, and `else` statements for branching.\n",
    "\n",
    "### if statement\n",
    "The `if` statement is used to check a condition. If the condition is True, the code inside the `if` block will be executed.\n",
    "\n",
    "```python\n",
    "a = 5\n",
    "if a > 5:\n",
    "    print(\"a is greater than 5\")\n",
    "```\n",
    "\n",
    "### else statement\n",
    "The `else` statement is used to run a block of code if the condition is False.\n",
    "\n",
    "```python\n",
    "a = 5\n",
    "if a > 5:\n",
    "    print(\"a is greater than 5\")\n",
    "else:\n",
    "    print(\"a is less than or equal to 5\")\n",
    "```\n",
    "\n",
    "### elif statement\n",
    "The `elif` statement is used to check multiple conditions. If the condition is True, the code inside the `elif` block will be executed.\n",
    "\n",
    "```python\n",
    "a = 5\n",
    "if a > 5:\n",
    "    print(\"a is greater than 5\")\n",
    "elif a < 5:\n",
    "    print(\"a is less than 5\")\n",
    "else:\n",
    "    print(\"a is equal to 5\")\n",
    "```\n"
   ]
  },
  {
   "cell_type": "code",
   "execution_count": 2,
   "metadata": {},
   "outputs": [
    {
     "name": "stdout",
     "output_type": "stream",
     "text": [
      "first string is greater\n"
     ]
    }
   ],
   "source": [
    "# compare characters in two strings > < \n",
    "\n",
    "def compare_strings(string1, string2):\n",
    "    if string1 > string2:\n",
    "        return \"first string is greater\"\n",
    "    elif string1 < string2:\n",
    "        return \"second string is greater\"\n",
    "    else:\n",
    "        return \"strings are equal\"\n",
    "    \n",
    "test1 = \"BA\"\n",
    "test2 = \"AB\"\n",
    "print(compare_strings(test1, test2)) # 1"
   ]
  },
  {
   "cell_type": "markdown",
   "metadata": {},
   "source": [
    "# Loops in python\n",
    "\n",
    "In this notebook, we will learn about loops in python. We will cover the following topics:\n",
    "- For loop\n",
    "- While loop\n",
    "\n",
    "## For loop\n",
    "The `for` loop is used to iterate over a sequence (list, tuple, string, etc.). It executes a block of code for each element in the sequence.\n",
    "\n",
    "```python\n",
    "fruits = [\"apple\", \"banana\", \"cherry\"]\n",
    "for fruit in fruits:\n",
    "    print(fruit)\n",
    "```\n",
    "\n",
    "## While loop\n",
    "The `while` loop is used to execute a block of code as long as the condition is True.\n",
    "\n",
    "```python\n",
    "i = 1\n",
    "while i <= 5:\n",
    "    print(i)\n",
    "    i += 1\n",
    "```\n",
    "\n",
    "## Logical operators\n",
    "Logical operators are used to combine conditional statements. It returns either True or False according to the condition.\n",
    "\n",
    "| Operator | Description |\n",
    "| --- | --- |\n",
    "| and | Returns True if both statements are True |\n",
    "| or | Returns True if one of the statements is True |\n",
    "| not | Reverse the result, returns False if the result is True |\n",
    "\n",
    "## Range function and enumerate function\n",
    "The `range` function is used to generate a sequence of numbers. It takes three arguments: `start`, `stop`, and `step`.\n",
    "\n",
    "```python\n",
    "for i in range(1, 6):\n",
    "    print(i)\n",
    "```\n",
    "\n",
    "The `enumerate` function is used to get both the index and the value of an element in a sequence.\n",
    "\n",
    "```python\n",
    "fruits = [\"apple\", \"banana\", \"cherry\"]\n",
    "for index, fruit in enumerate(fruits):\n",
    "    print(index, fruit)\n",
    "```\n",
    "\n"
   ]
  },
  {
   "cell_type": "code",
   "execution_count": 8,
   "metadata": {},
   "outputs": [
    {
     "name": "stdout",
     "output_type": "stream",
     "text": [
      "0\n",
      "1\n",
      "2\n",
      "3\n",
      "4\n"
     ]
    }
   ],
   "source": [
    "for i in range(0, 5):\n",
    "    print(i) # 0 1 2 3 4"
   ]
  },
  {
   "cell_type": "code",
   "execution_count": 9,
   "metadata": {},
   "outputs": [
    {
     "name": "stdout",
     "output_type": "stream",
     "text": [
      "1982\n",
      "1980\n",
      "1973\n"
     ]
    }
   ],
   "source": [
    "dates = [1982,1980,1973]\n",
    "\n",
    "for i in range(len(dates)):\n",
    "    print(dates[i]) # 1982 1980 1973"
   ]
  },
  {
   "cell_type": "code",
   "execution_count": 10,
   "metadata": {},
   "outputs": [
    {
     "name": "stdout",
     "output_type": "stream",
     "text": [
      "1982\n",
      "1980\n",
      "1973\n"
     ]
    }
   ],
   "source": [
    "for year in dates:  \n",
    "    print(year) # 1982 1980 1973"
   ]
  },
  {
   "cell_type": "code",
   "execution_count": 11,
   "metadata": {},
   "outputs": [
    {
     "name": "stdout",
     "output_type": "stream",
     "text": [
      "0 red\n",
      "1 yellow\n",
      "2 green\n",
      "3 purple\n",
      "4 blue\n"
     ]
    }
   ],
   "source": [
    "# Loop through the list and iterate on both index and element value\n",
    "\n",
    "squares=['red', 'yellow', 'green', 'purple', 'blue']\n",
    "\n",
    "for i, square in enumerate(squares):\n",
    "    print(i, square)"
   ]
  },
  {
   "cell_type": "code",
   "execution_count": 12,
   "metadata": {},
   "outputs": [
    {
     "name": "stdout",
     "output_type": "stream",
     "text": [
      "1982\n",
      "1980\n",
      "It took  2 repetitions to get out of loop.\n"
     ]
    }
   ],
   "source": [
    "# While Loop Example\n",
    "\n",
    "dates = [1982, 1980, 1973, 2000]\n",
    "\n",
    "i = 0\n",
    "year = dates[0]\n",
    "\n",
    "while(year != 1973):    \n",
    "    print(year)\n",
    "    i = i + 1\n",
    "    year = dates[i]\n",
    "    \n",
    "\n",
    "print(\"It took \", i ,\"repetitions to get out of loop.\")"
   ]
  },
  {
   "cell_type": "code",
   "execution_count": null,
   "metadata": {},
   "outputs": [],
   "source": []
  }
 ],
 "metadata": {
  "kernelspec": {
   "display_name": "Python 3 (ipykernel)",
   "language": "python",
   "name": "python3"
  },
  "language_info": {
   "codemirror_mode": {
    "name": "ipython",
    "version": 3
   },
   "file_extension": ".py",
   "mimetype": "text/x-python",
   "name": "python",
   "nbconvert_exporter": "python",
   "pygments_lexer": "ipython3",
   "version": "3.12.5"
  }
 },
 "nbformat": 4,
 "nbformat_minor": 2
}
